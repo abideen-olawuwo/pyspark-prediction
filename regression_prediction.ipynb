{
 "cells": [
  {
   "cell_type": "code",
   "execution_count": 1,
   "id": "abc4c299",
   "metadata": {},
   "outputs": [],
   "source": [
    "import pyspark"
   ]
  },
  {
   "cell_type": "code",
   "execution_count": 2,
   "id": "0f6b2c2f",
   "metadata": {},
   "outputs": [
    {
     "data": {
      "text/html": [
       "<div>\n",
       "<style scoped>\n",
       "    .dataframe tbody tr th:only-of-type {\n",
       "        vertical-align: middle;\n",
       "    }\n",
       "\n",
       "    .dataframe tbody tr th {\n",
       "        vertical-align: top;\n",
       "    }\n",
       "\n",
       "    .dataframe thead th {\n",
       "        text-align: right;\n",
       "    }\n",
       "</style>\n",
       "<table border=\"1\" class=\"dataframe\">\n",
       "  <thead>\n",
       "    <tr style=\"text-align: right;\">\n",
       "      <th></th>\n",
       "      <th>Feature1</th>\n",
       "      <th>Feature2</th>\n",
       "      <th>Feature3</th>\n",
       "      <th>Feature4</th>\n",
       "      <th>Target</th>\n",
       "    </tr>\n",
       "  </thead>\n",
       "  <tbody>\n",
       "    <tr>\n",
       "      <th>0</th>\n",
       "      <td>63</td>\n",
       "      <td>59</td>\n",
       "      <td>1164</td>\n",
       "      <td>-3</td>\n",
       "      <td>39</td>\n",
       "    </tr>\n",
       "    <tr>\n",
       "      <th>1</th>\n",
       "      <td>89</td>\n",
       "      <td>54</td>\n",
       "      <td>977</td>\n",
       "      <td>-2</td>\n",
       "      <td>54</td>\n",
       "    </tr>\n",
       "    <tr>\n",
       "      <th>2</th>\n",
       "      <td>73</td>\n",
       "      <td>46</td>\n",
       "      <td>725</td>\n",
       "      <td>-1</td>\n",
       "      <td>88</td>\n",
       "    </tr>\n",
       "    <tr>\n",
       "      <th>3</th>\n",
       "      <td>25</td>\n",
       "      <td>52</td>\n",
       "      <td>921</td>\n",
       "      <td>0</td>\n",
       "      <td>70</td>\n",
       "    </tr>\n",
       "    <tr>\n",
       "      <th>4</th>\n",
       "      <td>60</td>\n",
       "      <td>60</td>\n",
       "      <td>1222</td>\n",
       "      <td>0</td>\n",
       "      <td>91</td>\n",
       "    </tr>\n",
       "    <tr>\n",
       "      <th>...</th>\n",
       "      <td>...</td>\n",
       "      <td>...</td>\n",
       "      <td>...</td>\n",
       "      <td>...</td>\n",
       "      <td>...</td>\n",
       "    </tr>\n",
       "    <tr>\n",
       "      <th>9995</th>\n",
       "      <td>59</td>\n",
       "      <td>62</td>\n",
       "      <td>1286</td>\n",
       "      <td>1</td>\n",
       "      <td>37</td>\n",
       "    </tr>\n",
       "    <tr>\n",
       "      <th>9996</th>\n",
       "      <td>87</td>\n",
       "      <td>62</td>\n",
       "      <td>1288</td>\n",
       "      <td>2</td>\n",
       "      <td>54</td>\n",
       "    </tr>\n",
       "    <tr>\n",
       "      <th>9997</th>\n",
       "      <td>88</td>\n",
       "      <td>51</td>\n",
       "      <td>877</td>\n",
       "      <td>0</td>\n",
       "      <td>65</td>\n",
       "    </tr>\n",
       "    <tr>\n",
       "      <th>9998</th>\n",
       "      <td>65</td>\n",
       "      <td>41</td>\n",
       "      <td>584</td>\n",
       "      <td>2</td>\n",
       "      <td>94</td>\n",
       "    </tr>\n",
       "    <tr>\n",
       "      <th>9999</th>\n",
       "      <td>12</td>\n",
       "      <td>40</td>\n",
       "      <td>562</td>\n",
       "      <td>-3</td>\n",
       "      <td>94</td>\n",
       "    </tr>\n",
       "  </tbody>\n",
       "</table>\n",
       "<p>10000 rows × 5 columns</p>\n",
       "</div>"
      ],
      "text/plain": [
       "      Feature1  Feature2  Feature3  Feature4  Target\n",
       "0           63        59      1164        -3      39\n",
       "1           89        54       977        -2      54\n",
       "2           73        46       725        -1      88\n",
       "3           25        52       921         0      70\n",
       "4           60        60      1222         0      91\n",
       "...        ...       ...       ...       ...     ...\n",
       "9995        59        62      1286         1      37\n",
       "9996        87        62      1288         2      54\n",
       "9997        88        51       877         0      65\n",
       "9998        65        41       584         2      94\n",
       "9999        12        40       562        -3      94\n",
       "\n",
       "[10000 rows x 5 columns]"
      ]
     },
     "execution_count": 2,
     "metadata": {},
     "output_type": "execute_result"
    }
   ],
   "source": [
    "import pandas as pd\n",
    "pd.read_csv('Data.csv')"
   ]
  },
  {
   "cell_type": "code",
   "execution_count": 3,
   "id": "a53c2619",
   "metadata": {},
   "outputs": [],
   "source": [
    "from pyspark.sql import SparkSession"
   ]
  },
  {
   "cell_type": "code",
   "execution_count": 4,
   "id": "d021da84",
   "metadata": {},
   "outputs": [],
   "source": [
    "spark=SparkSession.builder.appName('RegressionPrediction').getOrCreate()"
   ]
  },
  {
   "cell_type": "code",
   "execution_count": 5,
   "id": "a0a4b68e",
   "metadata": {},
   "outputs": [
    {
     "data": {
      "text/html": [
       "\n",
       "            <div>\n",
       "                <p><b>SparkSession - in-memory</b></p>\n",
       "                \n",
       "        <div>\n",
       "            <p><b>SparkContext</b></p>\n",
       "\n",
       "            <p><a href=\"http://host.docker.internal:4044\">Spark UI</a></p>\n",
       "\n",
       "            <dl>\n",
       "              <dt>Version</dt>\n",
       "                <dd><code>v3.1.1</code></dd>\n",
       "              <dt>Master</dt>\n",
       "                <dd><code>local[*]</code></dd>\n",
       "              <dt>AppName</dt>\n",
       "                <dd><code>RegressionPrediction</code></dd>\n",
       "            </dl>\n",
       "        </div>\n",
       "        \n",
       "            </div>\n",
       "        "
      ],
      "text/plain": [
       "<pyspark.sql.session.SparkSession at 0x278b5ab1c70>"
      ]
     },
     "execution_count": 5,
     "metadata": {},
     "output_type": "execute_result"
    }
   ],
   "source": [
    "spark"
   ]
  },
  {
   "cell_type": "code",
   "execution_count": 6,
   "id": "a8a296ed",
   "metadata": {},
   "outputs": [],
   "source": [
    "df = spark.read.csv('Data.csv')"
   ]
  },
  {
   "cell_type": "code",
   "execution_count": 7,
   "id": "1c830abc",
   "metadata": {},
   "outputs": [
    {
     "name": "stdout",
     "output_type": "stream",
     "text": [
      "+--------+--------+--------+--------+------+\n",
      "|     _c0|     _c1|     _c2|     _c3|   _c4|\n",
      "+--------+--------+--------+--------+------+\n",
      "|Feature1|Feature2|Feature3|Feature4|Target|\n",
      "|      63|      59|    1164|      -3|    39|\n",
      "|      89|      54|     977|      -2|    54|\n",
      "|      73|      46|     725|      -1|    88|\n",
      "|      25|      52|     921|       0|    70|\n",
      "|      60|      60|    1222|       0|    91|\n",
      "|      26|      41|     583|       1|    77|\n",
      "|      43|      50|     855|       1|    82|\n",
      "|      56|      52|     924|       0|    91|\n",
      "|      82|      40|     551|      -1|    86|\n",
      "|      79|      54|     983|       0|    66|\n",
      "|      11|      42|     609|      -2|    68|\n",
      "|      76|      63|    1329|       0|    48|\n",
      "|      11|      63|    1352|      -3|    93|\n",
      "|      21|      43|     633|       2|    55|\n",
      "|      57|      67|    1514|       2|    75|\n",
      "|      56|      50|     853|      -1|    82|\n",
      "|      52|      49|     824|      -2|    95|\n",
      "|      24|      55|    1017|      -1|    37|\n",
      "|      77|      46|     716|       1|    63|\n",
      "+--------+--------+--------+--------+------+\n",
      "only showing top 20 rows\n",
      "\n"
     ]
    }
   ],
   "source": [
    "df.show()"
   ]
  },
  {
   "cell_type": "code",
   "execution_count": 8,
   "id": "f8f9f9b7",
   "metadata": {},
   "outputs": [
    {
     "name": "stdout",
     "output_type": "stream",
     "text": [
      "+--------+--------+--------+--------+------+\n",
      "|Feature1|Feature2|Feature3|Feature4|Target|\n",
      "+--------+--------+--------+--------+------+\n",
      "|      63|      59|    1164|      -3|    39|\n",
      "|      89|      54|     977|      -2|    54|\n",
      "|      73|      46|     725|      -1|    88|\n",
      "|      25|      52|     921|       0|    70|\n",
      "|      60|      60|    1222|       0|    91|\n",
      "|      26|      41|     583|       1|    77|\n",
      "|      43|      50|     855|       1|    82|\n",
      "|      56|      52|     924|       0|    91|\n",
      "|      82|      40|     551|      -1|    86|\n",
      "|      79|      54|     983|       0|    66|\n",
      "|      11|      42|     609|      -2|    68|\n",
      "|      76|      63|    1329|       0|    48|\n",
      "|      11|      63|    1352|      -3|    93|\n",
      "|      21|      43|     633|       2|    55|\n",
      "|      57|      67|    1514|       2|    75|\n",
      "|      56|      50|     853|      -1|    82|\n",
      "|      52|      49|     824|      -2|    95|\n",
      "|      24|      55|    1017|      -1|    37|\n",
      "|      77|      46|     716|       1|    63|\n",
      "|      23|      60|    1213|      -1|    48|\n",
      "+--------+--------+--------+--------+------+\n",
      "only showing top 20 rows\n",
      "\n"
     ]
    }
   ],
   "source": [
    "df=spark.read.option('header','true').csv('Data.csv').show()"
   ]
  },
  {
   "cell_type": "code",
   "execution_count": 9,
   "id": "ccdb4764",
   "metadata": {},
   "outputs": [
    {
     "name": "stdout",
     "output_type": "stream",
     "text": [
      "+--------+--------+--------+--------+------+\n",
      "|Feature1|Feature2|Feature3|Feature4|Target|\n",
      "+--------+--------+--------+--------+------+\n",
      "|      63|      59|    1164|      -3|    39|\n",
      "|      89|      54|     977|      -2|    54|\n",
      "|      73|      46|     725|      -1|    88|\n",
      "|      25|      52|     921|       0|    70|\n",
      "|      60|      60|    1222|       0|    91|\n",
      "|      26|      41|     583|       1|    77|\n",
      "|      43|      50|     855|       1|    82|\n",
      "|      56|      52|     924|       0|    91|\n",
      "|      82|      40|     551|      -1|    86|\n",
      "|      79|      54|     983|       0|    66|\n",
      "|      11|      42|     609|      -2|    68|\n",
      "|      76|      63|    1329|       0|    48|\n",
      "|      11|      63|    1352|      -3|    93|\n",
      "|      21|      43|     633|       2|    55|\n",
      "|      57|      67|    1514|       2|    75|\n",
      "|      56|      50|     853|      -1|    82|\n",
      "|      52|      49|     824|      -2|    95|\n",
      "|      24|      55|    1017|      -1|    37|\n",
      "|      77|      46|     716|       1|    63|\n",
      "|      23|      60|    1213|      -1|    48|\n",
      "+--------+--------+--------+--------+------+\n",
      "only showing top 20 rows\n",
      "\n"
     ]
    }
   ],
   "source": [
    "df=spark.read.csv('Data.csv',header=True,inferSchema=True)\n",
    "df.show()"
   ]
  },
  {
   "cell_type": "code",
   "execution_count": 10,
   "id": "2019d157",
   "metadata": {},
   "outputs": [
    {
     "data": {
      "text/plain": [
       "['Feature1', 'Feature2', 'Feature3', 'Feature4', 'Target']"
      ]
     },
     "execution_count": 10,
     "metadata": {},
     "output_type": "execute_result"
    }
   ],
   "source": [
    "df.columns"
   ]
  },
  {
   "cell_type": "code",
   "execution_count": 11,
   "id": "665edc1b",
   "metadata": {},
   "outputs": [
    {
     "data": {
      "text/plain": [
       "[Row(Feature1=63, Feature2=59, Feature3=1164, Feature4=-3, Target=39),\n",
       " Row(Feature1=89, Feature2=54, Feature3=977, Feature4=-2, Target=54),\n",
       " Row(Feature1=73, Feature2=46, Feature3=725, Feature4=-1, Target=88)]"
      ]
     },
     "execution_count": 11,
     "metadata": {},
     "output_type": "execute_result"
    }
   ],
   "source": [
    "df.head(3)"
   ]
  },
  {
   "cell_type": "code",
   "execution_count": 12,
   "id": "1438bb80",
   "metadata": {},
   "outputs": [
    {
     "name": "stdout",
     "output_type": "stream",
     "text": [
      "+--------+--------+--------+--------+------+\n",
      "|Feature1|Feature2|Feature3|Feature4|Target|\n",
      "+--------+--------+--------+--------+------+\n",
      "|      63|      59|    1164|      -3|    39|\n",
      "|      89|      54|     977|      -2|    54|\n",
      "|      73|      46|     725|      -1|    88|\n",
      "|      25|      52|     921|       0|    70|\n",
      "|      60|      60|    1222|       0|    91|\n",
      "|      26|      41|     583|       1|    77|\n",
      "|      43|      50|     855|       1|    82|\n",
      "|      56|      52|     924|       0|    91|\n",
      "|      82|      40|     551|      -1|    86|\n",
      "|      79|      54|     983|       0|    66|\n",
      "|      11|      42|     609|      -2|    68|\n",
      "|      76|      63|    1329|       0|    48|\n",
      "|      11|      63|    1352|      -3|    93|\n",
      "|      21|      43|     633|       2|    55|\n",
      "|      57|      67|    1514|       2|    75|\n",
      "|      56|      50|     853|      -1|    82|\n",
      "|      52|      49|     824|      -2|    95|\n",
      "|      24|      55|    1017|      -1|    37|\n",
      "|      77|      46|     716|       1|    63|\n",
      "|      23|      60|    1213|      -1|    48|\n",
      "+--------+--------+--------+--------+------+\n",
      "only showing top 20 rows\n",
      "\n"
     ]
    }
   ],
   "source": [
    "df.show()"
   ]
  },
  {
   "cell_type": "code",
   "execution_count": 13,
   "id": "a60cb000",
   "metadata": {},
   "outputs": [
    {
     "data": {
      "text/plain": [
       "[('Feature1', 'int'),\n",
       " ('Feature2', 'int'),\n",
       " ('Feature3', 'int'),\n",
       " ('Feature4', 'int'),\n",
       " ('Target', 'int')]"
      ]
     },
     "execution_count": 13,
     "metadata": {},
     "output_type": "execute_result"
    }
   ],
   "source": [
    "df.dtypes"
   ]
  },
  {
   "cell_type": "code",
   "execution_count": 14,
   "id": "8bdedcba",
   "metadata": {},
   "outputs": [
    {
     "name": "stdout",
     "output_type": "stream",
     "text": [
      "+--------+--------+--------+--------+------+\n",
      "|Feature1|Feature2|Feature3|Feature4|Target|\n",
      "+--------+--------+--------+--------+------+\n",
      "|      63|      59|    1164|      -3|    39|\n",
      "|      89|      54|     977|      -2|    54|\n",
      "|      73|      46|     725|      -1|    88|\n",
      "|      25|      52|     921|       0|    70|\n",
      "|      60|      60|    1222|       0|    91|\n",
      "|      26|      41|     583|       1|    77|\n",
      "|      43|      50|     855|       1|    82|\n",
      "|      56|      52|     924|       0|    91|\n",
      "|      82|      40|     551|      -1|    86|\n",
      "|      79|      54|     983|       0|    66|\n",
      "|      11|      42|     609|      -2|    68|\n",
      "|      76|      63|    1329|       0|    48|\n",
      "|      11|      63|    1352|      -3|    93|\n",
      "|      21|      43|     633|       2|    55|\n",
      "|      57|      67|    1514|       2|    75|\n",
      "|      56|      50|     853|      -1|    82|\n",
      "|      52|      49|     824|      -2|    95|\n",
      "|      24|      55|    1017|      -1|    37|\n",
      "|      77|      46|     716|       1|    63|\n",
      "|      23|      60|    1213|      -1|    48|\n",
      "+--------+--------+--------+--------+------+\n",
      "only showing top 20 rows\n",
      "\n"
     ]
    }
   ],
   "source": [
    "df.na.drop().show()"
   ]
  },
  {
   "cell_type": "code",
   "execution_count": 17,
   "id": "79996583",
   "metadata": {},
   "outputs": [],
   "source": [
    "from pyspark.ml.feature import VectorAssembler\n",
    "featureassembler=VectorAssembler(inputCols=[\"Feature1\",\"Feature2\", \"Feature3\", \"Feature4\"],outputCol=\"Independent Features\")"
   ]
  },
  {
   "cell_type": "code",
   "execution_count": 18,
   "id": "ab96e971",
   "metadata": {},
   "outputs": [],
   "source": [
    "output=featureassembler.transform(df)"
   ]
  },
  {
   "cell_type": "code",
   "execution_count": 19,
   "id": "3a2ea9c9",
   "metadata": {},
   "outputs": [
    {
     "name": "stdout",
     "output_type": "stream",
     "text": [
      "+--------+--------+--------+--------+------+--------------------+\n",
      "|Feature1|Feature2|Feature3|Feature4|Target|Independent Features|\n",
      "+--------+--------+--------+--------+------+--------------------+\n",
      "|      63|      59|    1164|      -3|    39|[63.0,59.0,1164.0...|\n",
      "|      89|      54|     977|      -2|    54|[89.0,54.0,977.0,...|\n",
      "|      73|      46|     725|      -1|    88|[73.0,46.0,725.0,...|\n",
      "|      25|      52|     921|       0|    70|[25.0,52.0,921.0,...|\n",
      "|      60|      60|    1222|       0|    91|[60.0,60.0,1222.0...|\n",
      "|      26|      41|     583|       1|    77|[26.0,41.0,583.0,...|\n",
      "|      43|      50|     855|       1|    82|[43.0,50.0,855.0,...|\n",
      "|      56|      52|     924|       0|    91|[56.0,52.0,924.0,...|\n",
      "|      82|      40|     551|      -1|    86|[82.0,40.0,551.0,...|\n",
      "|      79|      54|     983|       0|    66|[79.0,54.0,983.0,...|\n",
      "|      11|      42|     609|      -2|    68|[11.0,42.0,609.0,...|\n",
      "|      76|      63|    1329|       0|    48|[76.0,63.0,1329.0...|\n",
      "|      11|      63|    1352|      -3|    93|[11.0,63.0,1352.0...|\n",
      "|      21|      43|     633|       2|    55|[21.0,43.0,633.0,...|\n",
      "|      57|      67|    1514|       2|    75|[57.0,67.0,1514.0...|\n",
      "|      56|      50|     853|      -1|    82|[56.0,50.0,853.0,...|\n",
      "|      52|      49|     824|      -2|    95|[52.0,49.0,824.0,...|\n",
      "|      24|      55|    1017|      -1|    37|[24.0,55.0,1017.0...|\n",
      "|      77|      46|     716|       1|    63|[77.0,46.0,716.0,...|\n",
      "|      23|      60|    1213|      -1|    48|[23.0,60.0,1213.0...|\n",
      "+--------+--------+--------+--------+------+--------------------+\n",
      "only showing top 20 rows\n",
      "\n"
     ]
    }
   ],
   "source": [
    "output.show()"
   ]
  },
  {
   "cell_type": "code",
   "execution_count": 20,
   "id": "8cc362a9",
   "metadata": {},
   "outputs": [
    {
     "data": {
      "text/plain": [
       "['Feature1',\n",
       " 'Feature2',\n",
       " 'Feature3',\n",
       " 'Feature4',\n",
       " 'Target',\n",
       " 'Independent Features']"
      ]
     },
     "execution_count": 20,
     "metadata": {},
     "output_type": "execute_result"
    }
   ],
   "source": [
    "output.columns"
   ]
  },
  {
   "cell_type": "code",
   "execution_count": 21,
   "id": "b5eb14d9",
   "metadata": {},
   "outputs": [],
   "source": [
    "finalized_data=output.select(\"Independent Features\",\"Target\")"
   ]
  },
  {
   "cell_type": "code",
   "execution_count": 22,
   "id": "ed21d3d7",
   "metadata": {},
   "outputs": [
    {
     "name": "stdout",
     "output_type": "stream",
     "text": [
      "+--------------------+------+\n",
      "|Independent Features|Target|\n",
      "+--------------------+------+\n",
      "|[63.0,59.0,1164.0...|    39|\n",
      "|[89.0,54.0,977.0,...|    54|\n",
      "|[73.0,46.0,725.0,...|    88|\n",
      "|[25.0,52.0,921.0,...|    70|\n",
      "|[60.0,60.0,1222.0...|    91|\n",
      "|[26.0,41.0,583.0,...|    77|\n",
      "|[43.0,50.0,855.0,...|    82|\n",
      "|[56.0,52.0,924.0,...|    91|\n",
      "|[82.0,40.0,551.0,...|    86|\n",
      "|[79.0,54.0,983.0,...|    66|\n",
      "|[11.0,42.0,609.0,...|    68|\n",
      "|[76.0,63.0,1329.0...|    48|\n",
      "|[11.0,63.0,1352.0...|    93|\n",
      "|[21.0,43.0,633.0,...|    55|\n",
      "|[57.0,67.0,1514.0...|    75|\n",
      "|[56.0,50.0,853.0,...|    82|\n",
      "|[52.0,49.0,824.0,...|    95|\n",
      "|[24.0,55.0,1017.0...|    37|\n",
      "|[77.0,46.0,716.0,...|    63|\n",
      "|[23.0,60.0,1213.0...|    48|\n",
      "+--------------------+------+\n",
      "only showing top 20 rows\n",
      "\n"
     ]
    }
   ],
   "source": [
    "finalized_data.show()"
   ]
  },
  {
   "cell_type": "code",
   "execution_count": 23,
   "id": "0307bd75",
   "metadata": {},
   "outputs": [],
   "source": [
    "from pyspark.ml.regression import LinearRegression\n",
    "##train test split\n",
    "train_data,test_data=finalized_data.randomSplit([0.80,0.20])\n",
    "regressor=LinearRegression(featuresCol='Independent Features', labelCol='Target')\n",
    "regressor=regressor.fit(train_data)"
   ]
  },
  {
   "cell_type": "code",
   "execution_count": 24,
   "id": "868ef5da",
   "metadata": {},
   "outputs": [
    {
     "data": {
      "text/plain": [
       "DenseVector([0.0381, -9.3708, 0.2582, -0.0527])"
      ]
     },
     "execution_count": 24,
     "metadata": {},
     "output_type": "execute_result"
    }
   ],
   "source": [
    "### Coefficients\n",
    "regressor.coefficients"
   ]
  },
  {
   "cell_type": "code",
   "execution_count": 25,
   "id": "4d00296d",
   "metadata": {},
   "outputs": [
    {
     "data": {
      "text/plain": [
       "307.35535086551823"
      ]
     },
     "execution_count": 25,
     "metadata": {},
     "output_type": "execute_result"
    }
   ],
   "source": [
    "### Intercepts\n",
    "regressor.intercept"
   ]
  },
  {
   "cell_type": "code",
   "execution_count": 26,
   "id": "691f20bf",
   "metadata": {},
   "outputs": [],
   "source": [
    "### Prediction\n",
    "pred_results=regressor.evaluate(test_data)"
   ]
  },
  {
   "cell_type": "code",
   "execution_count": 27,
   "id": "3adffa3b",
   "metadata": {},
   "outputs": [
    {
     "name": "stdout",
     "output_type": "stream",
     "text": [
      "+--------------------+------+------------------+\n",
      "|Independent Features|Target|        prediction|\n",
      "+--------------------+------+------------------+\n",
      "|[10.0,40.0,555.0,...|    68| 76.15343363221032|\n",
      "|[10.0,41.0,575.0,...|    47|  71.9992945596916|\n",
      "|[10.0,42.0,605.0,...|    59| 70.53246489805232|\n",
      "|[10.0,44.0,661.0,...|    53| 66.14468336623534|\n",
      "|[10.0,46.0,729.0,...|    73| 64.85527364607816|\n",
      "|[10.0,48.0,788.0,...|    67|61.505417320083495|\n",
      "|[10.0,49.0,821.0,...|    67| 60.54984835845181|\n",
      "|[10.0,49.0,824.0,...|    74|  61.2191084102038|\n",
      "|[10.0,50.0,850.0,...|    53| 58.56148879293343|\n",
      "|[10.0,53.0,950.0,...|    45| 56.37431116366179|\n",
      "|[10.0,53.0,955.0,...|    60| 57.71796586910153|\n",
      "|[10.0,53.0,966.0,...|    95| 60.66347293095268|\n",
      "|[10.0,53.0,966.0,...|    94|  60.5054735792082|\n",
      "|[10.0,54.0,988.0,...|    51| 56.76239690746982|\n",
      "|[10.0,54.0,997.0,...|    79|59.086175766214666|\n",
      "|[10.0,58.0,1141.0...|    61|  58.7836033359994|\n",
      "|[10.0,60.0,1211.0...|    37| 58.16858826953006|\n",
      "|[10.0,61.0,1252.0...|    37|59.278600515671485|\n",
      "|[10.0,61.0,1258.0...|    56|  60.8277864215014|\n",
      "|[10.0,62.0,1290.0...|    31| 59.93001851238688|\n",
      "+--------------------+------+------------------+\n",
      "only showing top 20 rows\n",
      "\n"
     ]
    }
   ],
   "source": [
    "pred_results.predictions.show()"
   ]
  },
  {
   "cell_type": "code",
   "execution_count": 28,
   "id": "3ff7ede6",
   "metadata": {},
   "outputs": [
    {
     "data": {
      "text/plain": [
       "(16.57165945088772, 378.05515938022984)"
      ]
     },
     "execution_count": 28,
     "metadata": {},
     "output_type": "execute_result"
    }
   ],
   "source": [
    "pred_results.meanAbsoluteError,pred_results.meanSquaredError"
   ]
  },
  {
   "cell_type": "code",
   "execution_count": null,
   "id": "08fc4920",
   "metadata": {},
   "outputs": [],
   "source": []
  }
 ],
 "metadata": {
  "kernelspec": {
   "display_name": "Python 3 (ipykernel)",
   "language": "python",
   "name": "python3"
  },
  "language_info": {
   "codemirror_mode": {
    "name": "ipython",
    "version": 3
   },
   "file_extension": ".py",
   "mimetype": "text/x-python",
   "name": "python",
   "nbconvert_exporter": "python",
   "pygments_lexer": "ipython3",
   "version": "3.9.7"
  }
 },
 "nbformat": 4,
 "nbformat_minor": 5
}
